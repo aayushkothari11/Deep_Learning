{
 "cells": [
  {
   "cell_type": "code",
   "execution_count": 1,
   "metadata": {},
   "outputs": [],
   "source": [
    "import pandas as pd"
   ]
  },
  {
   "cell_type": "code",
   "execution_count": 2,
   "metadata": {},
   "outputs": [],
   "source": [
    "census = pd.read_csv(\"census_data.csv\")"
   ]
  },
  {
   "cell_type": "code",
   "execution_count": 3,
   "metadata": {},
   "outputs": [
    {
     "data": {
      "text/html": [
       "<div>\n",
       "<style scoped>\n",
       "    .dataframe tbody tr th:only-of-type {\n",
       "        vertical-align: middle;\n",
       "    }\n",
       "\n",
       "    .dataframe tbody tr th {\n",
       "        vertical-align: top;\n",
       "    }\n",
       "\n",
       "    .dataframe thead th {\n",
       "        text-align: right;\n",
       "    }\n",
       "</style>\n",
       "<table border=\"1\" class=\"dataframe\">\n",
       "  <thead>\n",
       "    <tr style=\"text-align: right;\">\n",
       "      <th></th>\n",
       "      <th>age</th>\n",
       "      <th>workclass</th>\n",
       "      <th>education</th>\n",
       "      <th>education_num</th>\n",
       "      <th>marital_status</th>\n",
       "      <th>occupation</th>\n",
       "      <th>relationship</th>\n",
       "      <th>race</th>\n",
       "      <th>gender</th>\n",
       "      <th>capital_gain</th>\n",
       "      <th>capital_loss</th>\n",
       "      <th>hours_per_week</th>\n",
       "      <th>native_country</th>\n",
       "      <th>income_bracket</th>\n",
       "    </tr>\n",
       "  </thead>\n",
       "  <tbody>\n",
       "    <tr>\n",
       "      <th>0</th>\n",
       "      <td>39</td>\n",
       "      <td>State-gov</td>\n",
       "      <td>Bachelors</td>\n",
       "      <td>13</td>\n",
       "      <td>Never-married</td>\n",
       "      <td>Adm-clerical</td>\n",
       "      <td>Not-in-family</td>\n",
       "      <td>White</td>\n",
       "      <td>Male</td>\n",
       "      <td>2174</td>\n",
       "      <td>0</td>\n",
       "      <td>40</td>\n",
       "      <td>United-States</td>\n",
       "      <td>&lt;=50K</td>\n",
       "    </tr>\n",
       "    <tr>\n",
       "      <th>1</th>\n",
       "      <td>50</td>\n",
       "      <td>Self-emp-not-inc</td>\n",
       "      <td>Bachelors</td>\n",
       "      <td>13</td>\n",
       "      <td>Married-civ-spouse</td>\n",
       "      <td>Exec-managerial</td>\n",
       "      <td>Husband</td>\n",
       "      <td>White</td>\n",
       "      <td>Male</td>\n",
       "      <td>0</td>\n",
       "      <td>0</td>\n",
       "      <td>13</td>\n",
       "      <td>United-States</td>\n",
       "      <td>&lt;=50K</td>\n",
       "    </tr>\n",
       "    <tr>\n",
       "      <th>2</th>\n",
       "      <td>38</td>\n",
       "      <td>Private</td>\n",
       "      <td>HS-grad</td>\n",
       "      <td>9</td>\n",
       "      <td>Divorced</td>\n",
       "      <td>Handlers-cleaners</td>\n",
       "      <td>Not-in-family</td>\n",
       "      <td>White</td>\n",
       "      <td>Male</td>\n",
       "      <td>0</td>\n",
       "      <td>0</td>\n",
       "      <td>40</td>\n",
       "      <td>United-States</td>\n",
       "      <td>&lt;=50K</td>\n",
       "    </tr>\n",
       "    <tr>\n",
       "      <th>3</th>\n",
       "      <td>53</td>\n",
       "      <td>Private</td>\n",
       "      <td>11th</td>\n",
       "      <td>7</td>\n",
       "      <td>Married-civ-spouse</td>\n",
       "      <td>Handlers-cleaners</td>\n",
       "      <td>Husband</td>\n",
       "      <td>Black</td>\n",
       "      <td>Male</td>\n",
       "      <td>0</td>\n",
       "      <td>0</td>\n",
       "      <td>40</td>\n",
       "      <td>United-States</td>\n",
       "      <td>&lt;=50K</td>\n",
       "    </tr>\n",
       "    <tr>\n",
       "      <th>4</th>\n",
       "      <td>28</td>\n",
       "      <td>Private</td>\n",
       "      <td>Bachelors</td>\n",
       "      <td>13</td>\n",
       "      <td>Married-civ-spouse</td>\n",
       "      <td>Prof-specialty</td>\n",
       "      <td>Wife</td>\n",
       "      <td>Black</td>\n",
       "      <td>Female</td>\n",
       "      <td>0</td>\n",
       "      <td>0</td>\n",
       "      <td>40</td>\n",
       "      <td>Cuba</td>\n",
       "      <td>&lt;=50K</td>\n",
       "    </tr>\n",
       "  </tbody>\n",
       "</table>\n",
       "</div>"
      ],
      "text/plain": [
       "   age          workclass   education  education_num       marital_status  \\\n",
       "0   39          State-gov   Bachelors             13        Never-married   \n",
       "1   50   Self-emp-not-inc   Bachelors             13   Married-civ-spouse   \n",
       "2   38            Private     HS-grad              9             Divorced   \n",
       "3   53            Private        11th              7   Married-civ-spouse   \n",
       "4   28            Private   Bachelors             13   Married-civ-spouse   \n",
       "\n",
       "           occupation    relationship    race   gender  capital_gain  \\\n",
       "0        Adm-clerical   Not-in-family   White     Male          2174   \n",
       "1     Exec-managerial         Husband   White     Male             0   \n",
       "2   Handlers-cleaners   Not-in-family   White     Male             0   \n",
       "3   Handlers-cleaners         Husband   Black     Male             0   \n",
       "4      Prof-specialty            Wife   Black   Female             0   \n",
       "\n",
       "   capital_loss  hours_per_week  native_country income_bracket  \n",
       "0             0              40   United-States          <=50K  \n",
       "1             0              13   United-States          <=50K  \n",
       "2             0              40   United-States          <=50K  \n",
       "3             0              40   United-States          <=50K  \n",
       "4             0              40            Cuba          <=50K  "
      ]
     },
     "execution_count": 3,
     "metadata": {},
     "output_type": "execute_result"
    }
   ],
   "source": [
    "census.head()"
   ]
  },
  {
   "cell_type": "code",
   "execution_count": 4,
   "metadata": {},
   "outputs": [
    {
     "data": {
      "text/plain": [
       "array([' <=50K', ' >50K'], dtype=object)"
      ]
     },
     "execution_count": 4,
     "metadata": {},
     "output_type": "execute_result"
    }
   ],
   "source": [
    "census['income_bracket'].unique()"
   ]
  },
  {
   "cell_type": "code",
   "execution_count": 5,
   "metadata": {},
   "outputs": [],
   "source": [
    "def label_fix(label):\n",
    "    if label==' <=50K':\n",
    "        return 0\n",
    "    else:\n",
    "        return 1"
   ]
  },
  {
   "cell_type": "code",
   "execution_count": 6,
   "metadata": {},
   "outputs": [],
   "source": [
    "census['income_bracket'] = census['income_bracket'].apply(label_fix)"
   ]
  },
  {
   "cell_type": "code",
   "execution_count": 7,
   "metadata": {},
   "outputs": [],
   "source": [
    "from sklearn.model_selection import train_test_split"
   ]
  },
  {
   "cell_type": "code",
   "execution_count": 8,
   "metadata": {},
   "outputs": [],
   "source": [
    "x_data = census.drop('income_bracket',axis=1)\n",
    "y_labels = census['income_bracket']\n",
    "X_train, X_test, y_train, y_test = train_test_split(x_data,y_labels,test_size=0.3,random_state=101)"
   ]
  },
  {
   "cell_type": "code",
   "execution_count": 9,
   "metadata": {},
   "outputs": [
    {
     "data": {
      "text/plain": [
       "Index(['age', 'workclass', 'education', 'education_num', 'marital_status',\n",
       "       'occupation', 'relationship', 'race', 'gender', 'capital_gain',\n",
       "       'capital_loss', 'hours_per_week', 'native_country', 'income_bracket'],\n",
       "      dtype='object')"
      ]
     },
     "execution_count": 9,
     "metadata": {},
     "output_type": "execute_result"
    }
   ],
   "source": [
    "census.columns"
   ]
  },
  {
   "cell_type": "code",
   "execution_count": 10,
   "metadata": {},
   "outputs": [],
   "source": [
    "import tensorflow as tf"
   ]
  },
  {
   "cell_type": "code",
   "execution_count": 11,
   "metadata": {},
   "outputs": [],
   "source": [
    "gender = tf.feature_column.categorical_column_with_vocabulary_list(\"gender\", [\"Female\", \"Male\"])\n",
    "occupation = tf.feature_column.categorical_column_with_hash_bucket(\"occupation\", hash_bucket_size=1000)\n",
    "marital_status = tf.feature_column.categorical_column_with_hash_bucket(\"marital_status\", hash_bucket_size=1000)\n",
    "relationship = tf.feature_column.categorical_column_with_hash_bucket(\"relationship\", hash_bucket_size=1000)\n",
    "education = tf.feature_column.categorical_column_with_hash_bucket(\"education\", hash_bucket_size=1000)\n",
    "workclass = tf.feature_column.categorical_column_with_hash_bucket(\"workclass\", hash_bucket_size=1000)\n",
    "native_country = tf.feature_column.categorical_column_with_hash_bucket(\"native_country\", hash_bucket_size=1000)"
   ]
  },
  {
   "cell_type": "code",
   "execution_count": 12,
   "metadata": {},
   "outputs": [],
   "source": [
    "age = tf.feature_column.numeric_column(\"age\")\n",
    "education_num = tf.feature_column.numeric_column(\"education_num\")\n",
    "capital_gain = tf.feature_column.numeric_column(\"capital_gain\")\n",
    "capital_loss = tf.feature_column.numeric_column(\"capital_loss\")\n",
    "hours_per_week = tf.feature_column.numeric_column(\"hours_per_week\")"
   ]
  },
  {
   "cell_type": "code",
   "execution_count": 13,
   "metadata": {},
   "outputs": [],
   "source": [
    "feat_cols = [gender,occupation,marital_status,relationship,education,workclass,native_country,\n",
    "            age,education_num,capital_gain,capital_loss,hours_per_week]"
   ]
  },
  {
   "cell_type": "code",
   "execution_count": 14,
   "metadata": {},
   "outputs": [],
   "source": [
    "input_func=tf.estimator.inputs.pandas_input_fn(x=X_train,y=y_train,batch_size=100,num_epochs=None,shuffle=True)"
   ]
  },
  {
   "cell_type": "markdown",
   "metadata": {},
   "source": [
    "**If you want to use a DNNClassifier, keep in mind you'll need to create embedded columns out of the cateogrical feature that use strings, check out the previous lecture on this for more info**"
   ]
  },
  {
   "cell_type": "code",
   "execution_count": 15,
   "metadata": {},
   "outputs": [
    {
     "name": "stdout",
     "output_type": "stream",
     "text": [
      "INFO:tensorflow:Using default config.\n",
      "WARNING:tensorflow:Using temporary folder as model directory: /tmp/tmpq8zbu83f\n",
      "INFO:tensorflow:Using config: {'_eval_distribute': None, '_train_distribute': None, '_cluster_spec': <tensorflow.python.training.server_lib.ClusterSpec object at 0x7fa36978c898>, '_model_dir': '/tmp/tmpq8zbu83f', '_num_ps_replicas': 0, '_evaluation_master': '', '_service': None, '_protocol': None, '_save_checkpoints_steps': None, '_log_step_count_steps': 100, '_global_id_in_cluster': 0, '_task_type': 'worker', '_tf_random_seed': None, '_master': '', '_experimental_distribute': None, '_save_summary_steps': 100, '_keep_checkpoint_max': 5, '_session_config': allow_soft_placement: true\n",
      "graph_options {\n",
      "  rewrite_options {\n",
      "    meta_optimizer_iterations: ONE\n",
      "  }\n",
      "}\n",
      ", '_keep_checkpoint_every_n_hours': 10000, '_num_worker_replicas': 1, '_is_chief': True, '_save_checkpoints_secs': 600, '_device_fn': None, '_task_id': 0}\n"
     ]
    }
   ],
   "source": [
    "model = tf.estimator.LinearClassifier(feature_columns=feat_cols)"
   ]
  },
  {
   "cell_type": "code",
   "execution_count": 16,
   "metadata": {},
   "outputs": [
    {
     "name": "stdout",
     "output_type": "stream",
     "text": [
      "WARNING:tensorflow:From /home/aayush/.local/lib/python3.5/site-packages/tensorflow/python/estimator/inputs/queues/feeding_queue_runner.py:62: QueueRunner.__init__ (from tensorflow.python.training.queue_runner_impl) is deprecated and will be removed in a future version.\n",
      "Instructions for updating:\n",
      "To construct input pipelines, use the `tf.data` module.\n",
      "WARNING:tensorflow:From /home/aayush/.local/lib/python3.5/site-packages/tensorflow/python/estimator/inputs/queues/feeding_functions.py:500: add_queue_runner (from tensorflow.python.training.queue_runner_impl) is deprecated and will be removed in a future version.\n",
      "Instructions for updating:\n",
      "To construct input pipelines, use the `tf.data` module.\n",
      "INFO:tensorflow:Calling model_fn.\n",
      "INFO:tensorflow:Done calling model_fn.\n",
      "INFO:tensorflow:Create CheckpointSaverHook.\n",
      "INFO:tensorflow:Graph was finalized.\n",
      "INFO:tensorflow:Running local_init_op.\n",
      "INFO:tensorflow:Done running local_init_op.\n",
      "WARNING:tensorflow:From /home/aayush/.local/lib/python3.5/site-packages/tensorflow/python/training/monitored_session.py:804: start_queue_runners (from tensorflow.python.training.queue_runner_impl) is deprecated and will be removed in a future version.\n",
      "Instructions for updating:\n",
      "To construct input pipelines, use the `tf.data` module.\n",
      "INFO:tensorflow:Saving checkpoints for 0 into /tmp/tmpq8zbu83f/model.ckpt.\n",
      "INFO:tensorflow:loss = 69.31472, step = 1\n",
      "INFO:tensorflow:global_step/sec: 117.052\n",
      "INFO:tensorflow:loss = 871.13635, step = 101 (0.854 sec)\n",
      "INFO:tensorflow:global_step/sec: 196.433\n",
      "INFO:tensorflow:loss = 136.3235, step = 201 (0.509 sec)\n",
      "INFO:tensorflow:global_step/sec: 197.02\n",
      "INFO:tensorflow:loss = 150.08852, step = 301 (0.509 sec)\n",
      "INFO:tensorflow:global_step/sec: 178.513\n",
      "INFO:tensorflow:loss = 410.18982, step = 401 (0.562 sec)\n",
      "INFO:tensorflow:global_step/sec: 178.708\n",
      "INFO:tensorflow:loss = 51.632767, step = 501 (0.557 sec)\n",
      "INFO:tensorflow:global_step/sec: 156.197\n",
      "INFO:tensorflow:loss = 188.64514, step = 601 (0.641 sec)\n",
      "INFO:tensorflow:global_step/sec: 152.573\n",
      "INFO:tensorflow:loss = 42.171223, step = 701 (0.654 sec)\n",
      "INFO:tensorflow:global_step/sec: 192.545\n",
      "INFO:tensorflow:loss = 127.14518, step = 801 (0.522 sec)\n",
      "INFO:tensorflow:global_step/sec: 186.382\n",
      "INFO:tensorflow:loss = 43.084846, step = 901 (0.536 sec)\n",
      "INFO:tensorflow:global_step/sec: 202.488\n",
      "INFO:tensorflow:loss = 100.553764, step = 1001 (0.493 sec)\n",
      "INFO:tensorflow:global_step/sec: 206.491\n",
      "INFO:tensorflow:loss = 213.69514, step = 1101 (0.484 sec)\n",
      "INFO:tensorflow:global_step/sec: 199.256\n",
      "INFO:tensorflow:loss = 97.252815, step = 1201 (0.502 sec)\n",
      "INFO:tensorflow:global_step/sec: 170.836\n",
      "INFO:tensorflow:loss = 29.400303, step = 1301 (0.588 sec)\n",
      "INFO:tensorflow:global_step/sec: 199.058\n",
      "INFO:tensorflow:loss = 68.88826, step = 1401 (0.502 sec)\n",
      "INFO:tensorflow:global_step/sec: 198.152\n",
      "INFO:tensorflow:loss = 175.37451, step = 1501 (0.503 sec)\n",
      "INFO:tensorflow:global_step/sec: 205.284\n",
      "INFO:tensorflow:loss = 135.51837, step = 1601 (0.488 sec)\n",
      "INFO:tensorflow:global_step/sec: 188.239\n",
      "INFO:tensorflow:loss = 64.40807, step = 1701 (0.532 sec)\n",
      "INFO:tensorflow:global_step/sec: 195.071\n",
      "INFO:tensorflow:loss = 36.145554, step = 1801 (0.512 sec)\n",
      "INFO:tensorflow:global_step/sec: 180.945\n",
      "INFO:tensorflow:loss = 28.98315, step = 1901 (0.553 sec)\n",
      "INFO:tensorflow:global_step/sec: 206.687\n",
      "INFO:tensorflow:loss = 80.368515, step = 2001 (0.484 sec)\n",
      "INFO:tensorflow:global_step/sec: 200.307\n",
      "INFO:tensorflow:loss = 65.566574, step = 2101 (0.500 sec)\n",
      "INFO:tensorflow:global_step/sec: 194.348\n",
      "INFO:tensorflow:loss = 47.01856, step = 2201 (0.513 sec)\n",
      "INFO:tensorflow:global_step/sec: 190.648\n",
      "INFO:tensorflow:loss = 42.69014, step = 2301 (0.525 sec)\n",
      "INFO:tensorflow:global_step/sec: 188.763\n",
      "INFO:tensorflow:loss = 56.877953, step = 2401 (0.530 sec)\n",
      "INFO:tensorflow:global_step/sec: 187.585\n",
      "INFO:tensorflow:loss = 52.453133, step = 2501 (0.532 sec)\n",
      "INFO:tensorflow:global_step/sec: 197.634\n",
      "INFO:tensorflow:loss = 38.706745, step = 2601 (0.506 sec)\n",
      "INFO:tensorflow:global_step/sec: 202.767\n",
      "INFO:tensorflow:loss = 287.49918, step = 2701 (0.493 sec)\n",
      "INFO:tensorflow:global_step/sec: 204.13\n",
      "INFO:tensorflow:loss = 108.04525, step = 2801 (0.490 sec)\n",
      "INFO:tensorflow:global_step/sec: 200.894\n",
      "INFO:tensorflow:loss = 34.72539, step = 2901 (0.498 sec)\n",
      "INFO:tensorflow:global_step/sec: 195.53\n",
      "INFO:tensorflow:loss = 27.86757, step = 3001 (0.515 sec)\n",
      "INFO:tensorflow:global_step/sec: 194.685\n",
      "INFO:tensorflow:loss = 124.446106, step = 3101 (0.511 sec)\n",
      "INFO:tensorflow:global_step/sec: 187.157\n",
      "INFO:tensorflow:loss = 249.7025, step = 3201 (0.533 sec)\n",
      "INFO:tensorflow:global_step/sec: 176.458\n",
      "INFO:tensorflow:loss = 38.375896, step = 3301 (0.567 sec)\n",
      "INFO:tensorflow:global_step/sec: 201.615\n",
      "INFO:tensorflow:loss = 64.35405, step = 3401 (0.495 sec)\n",
      "INFO:tensorflow:global_step/sec: 196.337\n",
      "INFO:tensorflow:loss = 46.195217, step = 3501 (0.511 sec)\n",
      "INFO:tensorflow:global_step/sec: 202.176\n",
      "INFO:tensorflow:loss = 152.8245, step = 3601 (0.494 sec)\n",
      "INFO:tensorflow:global_step/sec: 194.903\n",
      "INFO:tensorflow:loss = 61.222855, step = 3701 (0.513 sec)\n",
      "INFO:tensorflow:global_step/sec: 198.07\n",
      "INFO:tensorflow:loss = 30.134155, step = 3801 (0.504 sec)\n",
      "INFO:tensorflow:global_step/sec: 186.865\n",
      "INFO:tensorflow:loss = 178.4939, step = 3901 (0.536 sec)\n",
      "INFO:tensorflow:global_step/sec: 198.552\n",
      "INFO:tensorflow:loss = 33.06665, step = 4001 (0.503 sec)\n",
      "INFO:tensorflow:global_step/sec: 192.265\n",
      "INFO:tensorflow:loss = 34.339542, step = 4101 (0.521 sec)\n",
      "INFO:tensorflow:global_step/sec: 193.572\n",
      "INFO:tensorflow:loss = 37.51021, step = 4201 (0.515 sec)\n",
      "INFO:tensorflow:global_step/sec: 173.514\n",
      "INFO:tensorflow:loss = 22.99896, step = 4301 (0.577 sec)\n",
      "INFO:tensorflow:global_step/sec: 187.334\n",
      "INFO:tensorflow:loss = 34.42124, step = 4401 (0.534 sec)\n",
      "INFO:tensorflow:global_step/sec: 197.677\n",
      "INFO:tensorflow:loss = 50.969093, step = 4501 (0.505 sec)\n",
      "INFO:tensorflow:global_step/sec: 167.806\n",
      "INFO:tensorflow:loss = 127.55213, step = 4601 (0.596 sec)\n",
      "INFO:tensorflow:global_step/sec: 174.991\n",
      "INFO:tensorflow:loss = 193.2718, step = 4701 (0.572 sec)\n",
      "INFO:tensorflow:global_step/sec: 161.607\n",
      "INFO:tensorflow:loss = 121.49032, step = 4801 (0.618 sec)\n",
      "INFO:tensorflow:global_step/sec: 123.417\n",
      "INFO:tensorflow:loss = 33.310173, step = 4901 (0.811 sec)\n",
      "INFO:tensorflow:Saving checkpoints for 5000 into /tmp/tmpq8zbu83f/model.ckpt.\n",
      "INFO:tensorflow:Loss for final step: 267.354.\n"
     ]
    },
    {
     "data": {
      "text/plain": [
       "<tensorflow.python.estimator.canned.linear.LinearClassifier at 0x7fa36978c748>"
      ]
     },
     "execution_count": 16,
     "metadata": {},
     "output_type": "execute_result"
    }
   ],
   "source": [
    "model.train(input_fn=input_func,steps=5000)"
   ]
  },
  {
   "cell_type": "code",
   "execution_count": 17,
   "metadata": {},
   "outputs": [],
   "source": [
    "\n",
    "pred_fn = tf.estimator.inputs.pandas_input_fn(x=X_test,batch_size=len(X_test),shuffle=False)"
   ]
  },
  {
   "cell_type": "code",
   "execution_count": 18,
   "metadata": {},
   "outputs": [
    {
     "name": "stdout",
     "output_type": "stream",
     "text": [
      "INFO:tensorflow:Calling model_fn.\n",
      "INFO:tensorflow:Done calling model_fn.\n",
      "INFO:tensorflow:Graph was finalized.\n",
      "INFO:tensorflow:Restoring parameters from /tmp/tmpq8zbu83f/model.ckpt-5000\n",
      "INFO:tensorflow:Running local_init_op.\n",
      "INFO:tensorflow:Done running local_init_op.\n"
     ]
    }
   ],
   "source": [
    "predictions = list(model.predict(input_fn=pred_fn))"
   ]
  },
  {
   "cell_type": "code",
   "execution_count": 19,
   "metadata": {},
   "outputs": [
    {
     "data": {
      "text/plain": [
       "{'class_ids': array([0]),\n",
       " 'classes': array([b'0'], dtype=object),\n",
       " 'logistic': array([0.21997572], dtype=float32),\n",
       " 'logits': array([-1.2658079], dtype=float32),\n",
       " 'probabilities': array([0.7800243 , 0.21997574], dtype=float32)}"
      ]
     },
     "execution_count": 19,
     "metadata": {},
     "output_type": "execute_result"
    }
   ],
   "source": [
    "predictions[0]"
   ]
  },
  {
   "cell_type": "code",
   "execution_count": 20,
   "metadata": {},
   "outputs": [],
   "source": [
    "final_preds = []\n",
    "for pred in predictions:\n",
    "    final_preds.append(pred['class_ids'][0])"
   ]
  },
  {
   "cell_type": "code",
   "execution_count": 21,
   "metadata": {},
   "outputs": [
    {
     "data": {
      "text/plain": [
       "[0, 0, 0, 0, 1, 0, 0, 0, 0, 0]"
      ]
     },
     "execution_count": 21,
     "metadata": {},
     "output_type": "execute_result"
    }
   ],
   "source": [
    "final_preds[:10]"
   ]
  },
  {
   "cell_type": "code",
   "execution_count": 22,
   "metadata": {},
   "outputs": [],
   "source": [
    "from sklearn.metrics import classification_report"
   ]
  },
  {
   "cell_type": "code",
   "execution_count": 23,
   "metadata": {},
   "outputs": [
    {
     "name": "stdout",
     "output_type": "stream",
     "text": [
      "              precision    recall  f1-score   support\n",
      "\n",
      "           0       0.88      0.90      0.89      7436\n",
      "           1       0.65      0.61      0.63      2333\n",
      "\n",
      "   micro avg       0.83      0.83      0.83      9769\n",
      "   macro avg       0.76      0.75      0.76      9769\n",
      "weighted avg       0.82      0.83      0.83      9769\n",
      "\n"
     ]
    }
   ],
   "source": [
    "print(classification_report(y_test,final_preds))"
   ]
  },
  {
   "cell_type": "code",
   "execution_count": null,
   "metadata": {},
   "outputs": [],
   "source": []
  }
 ],
 "metadata": {
  "kernelspec": {
   "display_name": "Python 3",
   "language": "python",
   "name": "python3"
  },
  "language_info": {
   "codemirror_mode": {
    "name": "ipython",
    "version": 3
   },
   "file_extension": ".py",
   "mimetype": "text/x-python",
   "name": "python",
   "nbconvert_exporter": "python",
   "pygments_lexer": "ipython3",
   "version": "3.5.2"
  }
 },
 "nbformat": 4,
 "nbformat_minor": 2
}
