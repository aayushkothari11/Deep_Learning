{
 "cells": [
  {
   "cell_type": "code",
   "execution_count": 76,
   "metadata": {},
   "outputs": [],
   "source": [
    "import pandas as pd\n",
    "import numpy as np\n",
    "import matplotlib.pyplot as plt\n",
    "import seaborn as sns\n",
    "%matplotlib inline\n",
    "from sklearn.linear_model import LinearRegression\n",
    "from sklearn.model_selection import train_test_split"
   ]
  },
  {
   "cell_type": "code",
   "execution_count": 77,
   "metadata": {},
   "outputs": [],
   "source": [
    "dataset = pd.read_csv('weatherHistory.csv')"
   ]
  },
  {
   "cell_type": "code",
   "execution_count": 78,
   "metadata": {},
   "outputs": [
    {
     "data": {
      "text/html": [
       "<div>\n",
       "<style scoped>\n",
       "    .dataframe tbody tr th:only-of-type {\n",
       "        vertical-align: middle;\n",
       "    }\n",
       "\n",
       "    .dataframe tbody tr th {\n",
       "        vertical-align: top;\n",
       "    }\n",
       "\n",
       "    .dataframe thead th {\n",
       "        text-align: right;\n",
       "    }\n",
       "</style>\n",
       "<table border=\"1\" class=\"dataframe\">\n",
       "  <thead>\n",
       "    <tr style=\"text-align: right;\">\n",
       "      <th></th>\n",
       "      <th>Formatted Date</th>\n",
       "      <th>Summary</th>\n",
       "      <th>Precip Type</th>\n",
       "      <th>Temperature (C)</th>\n",
       "      <th>Apparent Temperature (C)</th>\n",
       "      <th>Humidity</th>\n",
       "      <th>Wind Speed (km/h)</th>\n",
       "      <th>Wind Bearing (degrees)</th>\n",
       "      <th>Visibility (km)</th>\n",
       "      <th>Loud Cover</th>\n",
       "      <th>Pressure (millibars)</th>\n",
       "      <th>Daily Summary</th>\n",
       "    </tr>\n",
       "  </thead>\n",
       "  <tbody>\n",
       "    <tr>\n",
       "      <th>0</th>\n",
       "      <td>2006-04-01 00:00:00.000 +0200</td>\n",
       "      <td>Partly Cloudy</td>\n",
       "      <td>rain</td>\n",
       "      <td>9.472222</td>\n",
       "      <td>7.388889</td>\n",
       "      <td>0.89</td>\n",
       "      <td>14.1197</td>\n",
       "      <td>251.0</td>\n",
       "      <td>15.8263</td>\n",
       "      <td>0.0</td>\n",
       "      <td>1015.13</td>\n",
       "      <td>Partly cloudy throughout the day.</td>\n",
       "    </tr>\n",
       "    <tr>\n",
       "      <th>1</th>\n",
       "      <td>2006-04-01 01:00:00.000 +0200</td>\n",
       "      <td>Partly Cloudy</td>\n",
       "      <td>rain</td>\n",
       "      <td>9.355556</td>\n",
       "      <td>7.227778</td>\n",
       "      <td>0.86</td>\n",
       "      <td>14.2646</td>\n",
       "      <td>259.0</td>\n",
       "      <td>15.8263</td>\n",
       "      <td>0.0</td>\n",
       "      <td>1015.63</td>\n",
       "      <td>Partly cloudy throughout the day.</td>\n",
       "    </tr>\n",
       "    <tr>\n",
       "      <th>2</th>\n",
       "      <td>2006-04-01 02:00:00.000 +0200</td>\n",
       "      <td>Mostly Cloudy</td>\n",
       "      <td>rain</td>\n",
       "      <td>9.377778</td>\n",
       "      <td>9.377778</td>\n",
       "      <td>0.89</td>\n",
       "      <td>3.9284</td>\n",
       "      <td>204.0</td>\n",
       "      <td>14.9569</td>\n",
       "      <td>0.0</td>\n",
       "      <td>1015.94</td>\n",
       "      <td>Partly cloudy throughout the day.</td>\n",
       "    </tr>\n",
       "    <tr>\n",
       "      <th>3</th>\n",
       "      <td>2006-04-01 03:00:00.000 +0200</td>\n",
       "      <td>Partly Cloudy</td>\n",
       "      <td>rain</td>\n",
       "      <td>8.288889</td>\n",
       "      <td>5.944444</td>\n",
       "      <td>0.83</td>\n",
       "      <td>14.1036</td>\n",
       "      <td>269.0</td>\n",
       "      <td>15.8263</td>\n",
       "      <td>0.0</td>\n",
       "      <td>1016.41</td>\n",
       "      <td>Partly cloudy throughout the day.</td>\n",
       "    </tr>\n",
       "    <tr>\n",
       "      <th>4</th>\n",
       "      <td>2006-04-01 04:00:00.000 +0200</td>\n",
       "      <td>Mostly Cloudy</td>\n",
       "      <td>rain</td>\n",
       "      <td>8.755556</td>\n",
       "      <td>6.977778</td>\n",
       "      <td>0.83</td>\n",
       "      <td>11.0446</td>\n",
       "      <td>259.0</td>\n",
       "      <td>15.8263</td>\n",
       "      <td>0.0</td>\n",
       "      <td>1016.51</td>\n",
       "      <td>Partly cloudy throughout the day.</td>\n",
       "    </tr>\n",
       "  </tbody>\n",
       "</table>\n",
       "</div>"
      ],
      "text/plain": [
       "                  Formatted Date        Summary Precip Type  Temperature (C)  \\\n",
       "0  2006-04-01 00:00:00.000 +0200  Partly Cloudy        rain         9.472222   \n",
       "1  2006-04-01 01:00:00.000 +0200  Partly Cloudy        rain         9.355556   \n",
       "2  2006-04-01 02:00:00.000 +0200  Mostly Cloudy        rain         9.377778   \n",
       "3  2006-04-01 03:00:00.000 +0200  Partly Cloudy        rain         8.288889   \n",
       "4  2006-04-01 04:00:00.000 +0200  Mostly Cloudy        rain         8.755556   \n",
       "\n",
       "   Apparent Temperature (C)  Humidity  Wind Speed (km/h)  \\\n",
       "0                  7.388889      0.89            14.1197   \n",
       "1                  7.227778      0.86            14.2646   \n",
       "2                  9.377778      0.89             3.9284   \n",
       "3                  5.944444      0.83            14.1036   \n",
       "4                  6.977778      0.83            11.0446   \n",
       "\n",
       "   Wind Bearing (degrees)  Visibility (km)  Loud Cover  Pressure (millibars)  \\\n",
       "0                   251.0          15.8263         0.0               1015.13   \n",
       "1                   259.0          15.8263         0.0               1015.63   \n",
       "2                   204.0          14.9569         0.0               1015.94   \n",
       "3                   269.0          15.8263         0.0               1016.41   \n",
       "4                   259.0          15.8263         0.0               1016.51   \n",
       "\n",
       "                       Daily Summary  \n",
       "0  Partly cloudy throughout the day.  \n",
       "1  Partly cloudy throughout the day.  \n",
       "2  Partly cloudy throughout the day.  \n",
       "3  Partly cloudy throughout the day.  \n",
       "4  Partly cloudy throughout the day.  "
      ]
     },
     "execution_count": 78,
     "metadata": {},
     "output_type": "execute_result"
    }
   ],
   "source": [
    "dataset.head()"
   ]
  },
  {
   "cell_type": "code",
   "execution_count": 79,
   "metadata": {},
   "outputs": [],
   "source": [
    "X = dataset['Temperature (C)']"
   ]
  },
  {
   "cell_type": "code",
   "execution_count": 80,
   "metadata": {},
   "outputs": [],
   "source": [
    "X = np.array(X)"
   ]
  },
  {
   "cell_type": "code",
   "execution_count": 81,
   "metadata": {},
   "outputs": [],
   "source": [
    "X = np.reshape(X, (-1, 1))[0:1000]"
   ]
  },
  {
   "cell_type": "code",
   "execution_count": 82,
   "metadata": {},
   "outputs": [
    {
     "data": {
      "text/plain": [
       "(1000, 1)"
      ]
     },
     "execution_count": 82,
     "metadata": {},
     "output_type": "execute_result"
    }
   ],
   "source": [
    "X.shape"
   ]
  },
  {
   "cell_type": "code",
   "execution_count": 83,
   "metadata": {},
   "outputs": [],
   "source": [
    "Y = dataset['Humidity']"
   ]
  },
  {
   "cell_type": "code",
   "execution_count": 84,
   "metadata": {},
   "outputs": [],
   "source": [
    "Y = np.array(Y)"
   ]
  },
  {
   "cell_type": "code",
   "execution_count": 85,
   "metadata": {},
   "outputs": [],
   "source": [
    "Y = np.reshape(Y, (-1, 1))[0:1000]"
   ]
  },
  {
   "cell_type": "code",
   "execution_count": 86,
   "metadata": {},
   "outputs": [
    {
     "data": {
      "text/plain": [
       "[<matplotlib.lines.Line2D at 0x7f11862450b8>]"
      ]
     },
     "execution_count": 86,
     "metadata": {},
     "output_type": "execute_result"
    },
    {
     "data": {
      "image/png": "[encoded data removed]",
      "text/plain": [
       "<Figure size 432x288 with 1 Axes>"
      ]
     },
     "metadata": {},
     "output_type": "display_data"
    }
   ],
   "source": [
    "plt.plot(X,Y,'.')"
   ]
  },
  {
   "cell_type": "code",
   "execution_count": 87,
   "metadata": {},
   "outputs": [],
   "source": [
    "X_train, X_test, y_train, y_test = train_test_split(X, Y, test_size=0.3, random_state=42)"
   ]
  },
  {
   "cell_type": "code",
   "execution_count": 88,
   "metadata": {},
   "outputs": [],
   "source": [
    "model = LinearRegression()"
   ]
  },
  {
   "cell_type": "code",
   "execution_count": 89,
   "metadata": {},
   "outputs": [
    {
     "data": {
      "text/plain": [
       "LinearRegression(copy_X=True, fit_intercept=True, n_jobs=None,\n",
       "         normalize=False)"
      ]
     },
     "execution_count": 89,
     "metadata": {},
     "output_type": "execute_result"
    }
   ],
   "source": [
    "model.fit(X_train, y_train)"
   ]
  },
  {
   "cell_type": "code",
   "execution_count": 90,
   "metadata": {},
   "outputs": [
    {
     "data": {
      "text/plain": [
       "0.3411996557067266"
      ]
     },
     "execution_count": 90,
     "metadata": {},
     "output_type": "execute_result"
    }
   ],
   "source": [
    "model.score(X_test, y_test)"
   ]
  },
  {
   "cell_type": "code",
   "execution_count": 91,
   "metadata": {},
   "outputs": [
    {
     "data": {
      "text/plain": [
       "array([[-0.01610598]])"
      ]
     },
     "execution_count": 91,
     "metadata": {},
     "output_type": "execute_result"
    }
   ],
   "source": [
    "model.coef_"
   ]
  },
  {
   "cell_type": "code",
   "execution_count": 92,
   "metadata": {},
   "outputs": [
    {
     "data": {
      "text/plain": [
       "array([0.96972952])"
      ]
     },
     "execution_count": 92,
     "metadata": {},
     "output_type": "execute_result"
    }
   ],
   "source": [
    "model.intercept_"
   ]
  },
  {
   "cell_type": "code",
   "execution_count": 93,
   "metadata": {},
   "outputs": [
    {
     "data": {
      "text/plain": [
       "array([[0.69011173],\n",
       "       [0.45415906],\n",
       "       [0.53334681],\n",
       "       [0.82504409],\n",
       "       [0.77618927],\n",
       "       [0.95433936],\n",
       "       [0.87846228],\n",
       "       [0.72733445],\n",
       "       [0.63383026],\n",
       "       [0.70800727],\n",
       "       [0.64841513],\n",
       "       [0.86307211],\n",
       "       [0.87201988],\n",
       "       [0.47089139],\n",
       "       [0.65557334],\n",
       "       [0.56761677],\n",
       "       [0.68429568],\n",
       "       [0.58542283],\n",
       "       [0.58640709],\n",
       "       [0.77690509],\n",
       "       [0.77332599],\n",
       "       [0.78925302],\n",
       "       [0.6308775 ],\n",
       "       [0.79005831],\n",
       "       [0.69163285],\n",
       "       [0.69163285],\n",
       "       [0.86969346],\n",
       "       [0.69897002],\n",
       "       [0.5229674 ],\n",
       "       [0.53003614],\n",
       "       [0.74191932],\n",
       "       [0.76106754],\n",
       "       [0.74684059],\n",
       "       [0.6822377 ],\n",
       "       [0.64716244],\n",
       "       [0.80893811],\n",
       "       [0.76169389],\n",
       "       [0.8426712 ],\n",
       "       [0.53128883],\n",
       "       [0.709081  ],\n",
       "       [0.72375534],\n",
       "       [0.8518874 ],\n",
       "       [0.78406331],\n",
       "       [0.45568018],\n",
       "       [0.71820773],\n",
       "       [0.70612824],\n",
       "       [0.50525082],\n",
       "       [0.89957901],\n",
       "       [0.75006179],\n",
       "       [0.68447464],\n",
       "       [0.69270659],\n",
       "       [0.58381223],\n",
       "       [0.76017277],\n",
       "       [0.89063124],\n",
       "       [0.80544848],\n",
       "       [0.85278218],\n",
       "       [0.72670811],\n",
       "       [0.71176533],\n",
       "       [0.86548801],\n",
       "       [0.71060212],\n",
       "       [0.78862667],\n",
       "       [0.79077414],\n",
       "       [0.70514398],\n",
       "       [0.68778531],\n",
       "       [0.91792194],\n",
       "       [0.82244924],\n",
       "       [0.80714855],\n",
       "       [0.72321848],\n",
       "       [0.84589239],\n",
       "       [0.68340091],\n",
       "       [0.85045576],\n",
       "       [0.62971429],\n",
       "       [0.78674764],\n",
       "       [0.57200118],\n",
       "       [0.83846575],\n",
       "       [0.79641123],\n",
       "       [0.89107863],\n",
       "       [0.62855108],\n",
       "       [0.80500109],\n",
       "       [0.7620518 ],\n",
       "       [0.95433936],\n",
       "       [0.79399533],\n",
       "       [0.72903453],\n",
       "       [0.82799686],\n",
       "       [0.777263  ],\n",
       "       [0.76527299],\n",
       "       [0.55222661],\n",
       "       [0.69127494],\n",
       "       [0.70800727],\n",
       "       [0.68975382],\n",
       "       [0.75569888],\n",
       "       [0.62819317],\n",
       "       [0.70800727],\n",
       "       [0.76017277],\n",
       "       [0.60251307],\n",
       "       [0.80088512],\n",
       "       [0.6473414 ],\n",
       "       [0.80679064],\n",
       "       [0.69261711],\n",
       "       [0.61512943],\n",
       "       [0.78111055],\n",
       "       [0.64644662],\n",
       "       [0.62264555],\n",
       "       [0.68259561],\n",
       "       [0.87121458],\n",
       "       [0.88866273],\n",
       "       [0.77824726],\n",
       "       [0.60815017],\n",
       "       [0.77216278],\n",
       "       [0.70317548],\n",
       "       [0.82128603],\n",
       "       [0.69449614],\n",
       "       [0.64948886],\n",
       "       [0.70022271],\n",
       "       [0.81045923],\n",
       "       [0.75534097],\n",
       "       [0.68304299],\n",
       "       [0.47017556],\n",
       "       [0.87542003],\n",
       "       [0.80679064],\n",
       "       [0.74603529],\n",
       "       [0.59750232],\n",
       "       [0.68966434],\n",
       "       [0.75623575],\n",
       "       [0.73001878],\n",
       "       [0.79363742],\n",
       "       [0.82808633],\n",
       "       [0.58309641],\n",
       "       [0.70317548],\n",
       "       [0.68814322],\n",
       "       [0.8711251 ],\n",
       "       [0.70863361],\n",
       "       [0.79864817],\n",
       "       [0.59070202],\n",
       "       [0.82987589],\n",
       "       [0.79077414],\n",
       "       [0.86307211],\n",
       "       [0.81099609],\n",
       "       [0.81010132],\n",
       "       [0.83766045],\n",
       "       [0.71104951],\n",
       "       [0.77216278],\n",
       "       [0.6565576 ],\n",
       "       [0.70818623],\n",
       "       [0.73726648],\n",
       "       [0.64957834],\n",
       "       [0.61477151],\n",
       "       [0.76357292],\n",
       "       [0.73592431],\n",
       "       [0.76428874],\n",
       "       [0.88884169],\n",
       "       [0.69360136],\n",
       "       [0.46910183],\n",
       "       [0.71176533],\n",
       "       [0.66774231],\n",
       "       [0.77108904],\n",
       "       [0.77216278],\n",
       "       [0.88177295],\n",
       "       [0.68760636],\n",
       "       [0.65942088],\n",
       "       [0.80500109],\n",
       "       [0.68170083],\n",
       "       [0.89814737],\n",
       "       [0.90512663],\n",
       "       [0.69270659],\n",
       "       [0.85161897],\n",
       "       [0.74567738],\n",
       "       [0.75999381],\n",
       "       [0.81770692],\n",
       "       [0.7728786 ],\n",
       "       [0.80115355],\n",
       "       [0.74200879],\n",
       "       [0.82352297],\n",
       "       [0.66559484],\n",
       "       [0.7463932 ],\n",
       "       [0.81904909],\n",
       "       [0.69243815],\n",
       "       [0.75766739],\n",
       "       [0.66693701],\n",
       "       [0.93501218],\n",
       "       [0.62998272],\n",
       "       [0.90637932],\n",
       "       [0.62801421],\n",
       "       [0.78146846],\n",
       "       [0.71919198],\n",
       "       [0.70729145],\n",
       "       [0.68868009],\n",
       "       [0.8278179 ],\n",
       "       [0.66622119],\n",
       "       [0.76670464],\n",
       "       [0.51929882],\n",
       "       [0.66470007],\n",
       "       [0.89009438],\n",
       "       [0.79220578],\n",
       "       [0.77171539],\n",
       "       [0.76500456],\n",
       "       [0.74433521],\n",
       "       [0.69091703],\n",
       "       [0.72849766],\n",
       "       [0.87166197],\n",
       "       [0.86038778],\n",
       "       [0.87416735],\n",
       "       [0.85466121],\n",
       "       [0.8169911 ],\n",
       "       [0.68053762],\n",
       "       [0.82110707],\n",
       "       [0.77180487],\n",
       "       [0.71051265],\n",
       "       [0.62864056],\n",
       "       [0.68519046],\n",
       "       [0.75104604],\n",
       "       [0.76393083],\n",
       "       [0.50256649],\n",
       "       [0.6292669 ],\n",
       "       [0.89224184],\n",
       "       [0.72679759],\n",
       "       [0.80643273],\n",
       "       [0.7736839 ],\n",
       "       [0.5835438 ],\n",
       "       [0.74451417],\n",
       "       [0.74514051],\n",
       "       [0.45460645],\n",
       "       [0.45228003],\n",
       "       [0.75578836],\n",
       "       [0.66711597],\n",
       "       [0.81869118],\n",
       "       [0.68232717],\n",
       "       [0.64787826],\n",
       "       [0.52198315],\n",
       "       [0.8021378 ],\n",
       "       [0.7897004 ],\n",
       "       [0.61253457],\n",
       "       [0.75346194],\n",
       "       [0.76375187],\n",
       "       [0.7728786 ],\n",
       "       [0.84410284],\n",
       "       [0.66407372],\n",
       "       [0.6657738 ],\n",
       "       [0.78961093],\n",
       "       [0.7736839 ],\n",
       "       [0.8362288 ],\n",
       "       [0.70881257],\n",
       "       [0.7255449 ],\n",
       "       [0.69485405],\n",
       "       [0.76169389],\n",
       "       [0.84034478],\n",
       "       [0.72062363],\n",
       "       [0.86208786],\n",
       "       [0.82638626],\n",
       "       [0.81869118],\n",
       "       [0.85367695],\n",
       "       [0.66470007],\n",
       "       [0.68295352],\n",
       "       [0.72930296],\n",
       "       [0.58452805],\n",
       "       [0.75757791],\n",
       "       [0.68000075],\n",
       "       [0.70165435],\n",
       "       [0.55070549],\n",
       "       [0.82119655],\n",
       "       [0.47115982],\n",
       "       [0.6922592 ],\n",
       "       [0.85305061],\n",
       "       [0.82924954],\n",
       "       [0.76849419],\n",
       "       [0.71051265],\n",
       "       [0.72733445],\n",
       "       [0.68912748],\n",
       "       [0.84812934],\n",
       "       [0.74487208],\n",
       "       [0.66774231],\n",
       "       [0.85197688],\n",
       "       [0.54882646],\n",
       "       [0.76500456],\n",
       "       [0.74227723],\n",
       "       [0.74791432],\n",
       "       [0.80007982],\n",
       "       [0.90110013],\n",
       "       [0.85484016],\n",
       "       [0.55213713],\n",
       "       [0.84177642],\n",
       "       [0.71838668],\n",
       "       [0.73601379],\n",
       "       [0.77395233],\n",
       "       [0.72590281],\n",
       "       [0.78996884],\n",
       "       [0.78585286],\n",
       "       [0.5819332 ],\n",
       "       [0.7046966 ],\n",
       "       [0.46972818],\n",
       "       [0.5670799 ],\n",
       "       [0.71883407],\n",
       "       [0.72840818],\n",
       "       [0.71373384],\n",
       "       [0.80464318],\n",
       "       [0.66282104],\n",
       "       [0.62828265],\n",
       "       [0.67677956],\n",
       "       [0.82844424],\n",
       "       [0.74728798]])"
      ]
     },
     "execution_count": 93,
     "metadata": {},
     "output_type": "execute_result"
    }
   ],
   "source": [
    "model.predict(X_test)"
   ]
  },
  {
   "cell_type": "code",
   "execution_count": 94,
   "metadata": {},
   "outputs": [],
   "source": [
    "y_pred = model.predict(X_test)"
   ]
  },
  {
   "cell_type": "code",
   "execution_count": 95,
   "metadata": {},
   "outputs": [
    {
     "data": {
      "text/plain": [
       "([], <a list of 0 Text yticklabel objects>)"
      ]
     },
     "execution_count": 95,
     "metadata": {},
     "output_type": "execute_result"
    },
    {
     "data": {
      "image/png": "[encoded data removed]",
      "text/plain": [
       "<Figure size 432x288 with 1 Axes>"
      ]
     },
     "metadata": {},
     "output_type": "display_data"
    }
   ],
   "source": [
    "plt.scatter(X_test, y_test,  color='black')\n",
    "plt.plot(X_test, y_pred, color='blue', linewidth=3)\n",
    "\n",
    "plt.xticks(())\n",
    "plt.yticks(())\n",
    "\n"
   ]
  },
  {
   "cell_type": "code",
   "execution_count": 96,
   "metadata": {},
   "outputs": [],
   "source": [
    "from sklearn import metrics"
   ]
  },
  {
   "cell_type": "code",
   "execution_count": 97,
   "metadata": {},
   "outputs": [
    {
     "data": {
      "text/plain": [
       "0.02096703465750641"
      ]
     },
     "execution_count": 97,
     "metadata": {},
     "output_type": "execute_result"
    }
   ],
   "source": [
    "metrics.mean_squared_error(y_test, y_pred)"
   ]
  },
  {
   "cell_type": "code",
   "execution_count": 98,
   "metadata": {},
   "outputs": [
    {
     "data": {
      "text/plain": [
       "0.11984738768370226"
      ]
     },
     "execution_count": 98,
     "metadata": {},
     "output_type": "execute_result"
    }
   ],
   "source": [
    "metrics.mean_absolute_error(y_test, y_pred)"
   ]
  },
  {
   "cell_type": "code",
   "execution_count": null,
   "metadata": {},
   "outputs": [],
   "source": []
  }
 ],
 "metadata": {
  "kernelspec": {
   "display_name": "Python 3",
   "language": "python",
   "name": "python3"
  },
  "language_info": {
   "codemirror_mode": {
    "name": "ipython",
    "version": 3
   },
   "file_extension": ".py",
   "mimetype": "text/x-python",
   "name": "python",
   "nbconvert_exporter": "python",
   "pygments_lexer": "ipython3",
   "version": "3.5.2"
  }
 },
 "nbformat": 4,
 "nbformat_minor": 2
}
